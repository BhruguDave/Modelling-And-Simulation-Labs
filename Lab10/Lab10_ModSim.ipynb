{
 "cells": [
  {
   "cell_type": "code",
   "execution_count": null,
   "metadata": {
    "id": "cTQdnnlOpndG"
   },
   "outputs": [],
   "source": [
    "import numpy as np\n",
    "import matplotlib.pyplot as plt\n",
    "import matplotlib as matplt\n",
    "import math as m\n",
    "from tqdm import tqdm\n",
    "import seaborn as sns\n",
    "import matplotlib.image as mpimg\n",
    "import matplotlib.animation as animation\n",
    "from matplotlib.animation import FuncAnimation\n",
    "\n",
    "zero_color = \"#cfcc23\"\n",
    "one_color = \"#208724\"\n",
    "two_color = \"#c92f24\"\n",
    "grid_kws = {'width_ratios': (0.9, 0.05), 'wspace': 0.2}\n",
    "colors = [zero_color, one_color, two_color]\n",
    "c_map = matplt.colors.LinearSegmentedColormap.from_list(\"\", colors)"
   ]
  },
  {
   "cell_type": "markdown",
   "metadata": {
    "id": "fuN5fh8apndQ"
   },
   "source": [
    "# Declaring the global constants"
   ]
  },
  {
   "cell_type": "code",
   "execution_count": null,
   "metadata": {
    "id": "jf8ZnDLCpndR"
   },
   "outputs": [],
   "source": [
    "EMPTY = 0\n",
    "TREE = 1\n",
    "BURNING = 2"
   ]
  },
  {
   "cell_type": "markdown",
   "metadata": {
    "id": "Bhal1AYVpndS"
   },
   "source": [
    "# Functions"
   ]
  },
  {
   "cell_type": "code",
   "execution_count": null,
   "metadata": {
    "id": "PsjxHFDupndS"
   },
   "outputs": [],
   "source": [
    "def init_forest(n, prob_tree, prob_burning):\n",
    "    grid = np.zeros((n,n))\n",
    "    for i in range(n):\n",
    "        for j in range(n):\n",
    "            if(np.random.uniform(0,1) < prob_tree):\n",
    "                if(np.random.uniform(0,1) < prob_burning):\n",
    "                    grid[i][j] = BURNING\n",
    "                else:\n",
    "                    grid[i][j] = TREE\n",
    "            else:\n",
    "                grid[i][j] = EMPTY\n",
    "    return grid"
   ]
  },
  {
   "cell_type": "code",
   "execution_count": null,
   "metadata": {
    "id": "vaQsFSi7pndT"
   },
   "outputs": [],
   "source": [
    "def reflecting_lat(lat):\n",
    "    lat_NS = np.row_stack((lat[0], lat, lat[-1]))\n",
    "    return np.column_stack((lat_NS[:,0], lat_NS, lat_NS[:,-1]))"
   ]
  },
  {
   "cell_type": "code",
   "execution_count": null,
   "metadata": {
    "id": "wt3RFPCCpndT"
   },
   "outputs": [],
   "source": [
    "def periodic_lat(lat):\n",
    "    lat_NS = np.row_stack((lat[-1], lat, lat[0]))\n",
    "    return np.column_stack((lat_NS[:,-1], lat_NS, lat_NS[:,0]))    "
   ]
  },
  {
   "cell_type": "code",
   "execution_count": null,
   "metadata": {
    "id": "5zb3fCmxpndT"
   },
   "outputs": [],
   "source": [
    "def spread(site, N, E, S, W, prob_light, prob_immune):\n",
    "    if(site == EMPTY or site == BURNING):\n",
    "        return EMPTY\n",
    "    else:\n",
    "        if(N==BURNING or E==BURNING or S==BURNING or W==BURNING):\n",
    "            if(np.random.uniform(0,1) < prob_immune):\n",
    "                return TREE\n",
    "            else:\n",
    "                return BURNING\n",
    "        else:\n",
    "            if(np.random.uniform(0,1) < prob_light * (1 - prob_immune)):\n",
    "                return BURNING\n",
    "            else:\n",
    "                return TREE"
   ]
  },
  {
   "cell_type": "code",
   "execution_count": null,
   "metadata": {
    "id": "MZMhAv-MpndU"
   },
   "outputs": [],
   "source": [
    "def apply_extended(grid, prob_light, prob_immune):\n",
    "    n = grid.shape[0] - 2\n",
    "    new_grid = np.zeros((n,n))\n",
    "    for i in range(1, n+1):\n",
    "        for j in range(1, n+1):\n",
    "            site = grid[i][j]\n",
    "            N = grid[i-1][j]\n",
    "            E = grid[i][j+1]\n",
    "            S = grid[i+1][j]\n",
    "            W = grid[i][j-1]\n",
    "            new_grid[i-1][j-1] = spread(site, N, E, S, W, prob_light, prob_immune)\n",
    "    return new_grid"
   ]
  },
  {
   "cell_type": "markdown",
   "metadata": {
    "id": "BL6y5kgupndV"
   },
   "source": [
    "## Simulation driver function"
   ]
  },
  {
   "cell_type": "code",
   "execution_count": null,
   "metadata": {
    "id": "3x1HiPrVpndV"
   },
   "outputs": [],
   "source": [
    "def fire(n, prob_tree, prob_burning, prob_light, prob_immune, t):\n",
    "    forest = init_forest(n, prob_tree, prob_burning)\n",
    "    grids = np.zeros((t+1, n, n))\n",
    "    grids[0,:,:] = forest\n",
    "    for i in range(1, t+1):\n",
    "        forest_ext = periodic_lat(forest)\n",
    "        forest = apply_extended(forest_ext, prob_light, prob_immune)\n",
    "        grids[i,:,:] = forest\n",
    "    return grids"
   ]
  },
  {
   "cell_type": "code",
   "execution_count": null,
   "metadata": {
    "id": "xjclxtZLpndV"
   },
   "outputs": [],
   "source": [
    "color_map = {0: np.array([255, 255, 0]), # yellow\n",
    "             1: np.array([0, 180, 0]), # green\n",
    "             2: np.array([255, 0, 0])} # orange "
   ]
  },
  {
   "cell_type": "code",
   "execution_count": null,
   "metadata": {
    "id": "CcAnRhnwpndW"
   },
   "outputs": [],
   "source": [
    "def colour_forest(data):\n",
    "    data_3d = np.ndarray(shape=(data.shape[0], data.shape[1], 3), dtype=int)\n",
    "    for i in range(0, data.shape[0]):\n",
    "        for j in range(0, data.shape[1]):\n",
    "            data_3d[i][j] = color_map[data[i][j]]\n",
    "    return data_3d"
   ]
  },
  {
   "cell_type": "code",
   "execution_count": null,
   "metadata": {
    "id": "2-YJdK88pndW"
   },
   "outputs": [],
   "source": [
    "def generate_animation(grids, filename):\n",
    "    t = grids.shape[0]\n",
    "    fig, (ax, cbar_ax) = plt.subplots(1, 2, gridspec_kw = grid_kws, figsize=(8, 8))\n",
    "\n",
    "    def render_frame(i):\n",
    "        g = sns.heatmap(grids[i],\n",
    "            ax = ax,\n",
    "            cbar_ax = cbar_ax,\n",
    "            cbar = False,\n",
    "            # annot = labels,\n",
    "            vmin = 0,\n",
    "            vmax = 2,\n",
    "            cmap=c_map)\n",
    "        ax.set_title('t = ' + str(i))\n",
    "        # g.cax.set_visible(False)\n",
    "\n",
    "    anim = FuncAnimation(fig = fig, func = render_frame, frames=tqdm(np.arange(len(grids)), initial=1), interval = 1000.0/5, blit = False, repeat = False)\n",
    "\n",
    "    anim.save(filename, writer = 'ffmpeg', fps = 5)"
   ]
  },
  {
   "cell_type": "markdown",
   "metadata": {
    "id": "J28c5uJspndW"
   },
   "source": [
    "# Example simulation"
   ]
  },
  {
   "cell_type": "code",
   "execution_count": null,
   "metadata": {
    "id": "gw_TKIh4pndW"
   },
   "outputs": [],
   "source": [
    "np.random.seed(2)\n",
    "n = 50\n",
    "prob_tree = 0.75\n",
    "prob_burning = 0.001\n",
    "prob_light = 0.0\n",
    "prob_immune = 0.0\n",
    "t = 60\n",
    "grids = fire(n, prob_tree, prob_burning, prob_light, prob_immune, t)"
   ]
  },
  {
   "cell_type": "code",
   "execution_count": null,
   "metadata": {
    "colab": {
     "base_uri": "https://localhost:8080/",
     "height": 1000
    },
    "id": "VNayUHHApndX",
    "outputId": "d356238d-c755-4fb7-ffb5-2d4f8e4cfc32"
   },
   "outputs": [
    {
     "name": "stderr",
     "output_type": "stream",
     "text": [
      "\n",
      "\n",
      "  2%|▏         | 1/61 [00:00<?, ?it/s]\u001b[A\u001b[A\n",
      "\n",
      "  3%|▎         | 2/61 [00:00<00:39,  1.50it/s]\u001b[A\u001b[A\n",
      "\n",
      "  5%|▍         | 3/61 [00:01<00:33,  1.73it/s]\u001b[A\u001b[A\n",
      "\n",
      "  7%|▋         | 4/61 [00:01<00:29,  1.93it/s]\u001b[A\u001b[A\n",
      "\n",
      "  8%|▊         | 5/61 [00:01<00:26,  2.12it/s]\u001b[A\u001b[A\n",
      "\n",
      " 10%|▉         | 6/61 [00:02<00:25,  2.19it/s]\u001b[A\u001b[A\n",
      "\n",
      " 11%|█▏        | 7/61 [00:02<00:23,  2.27it/s]\u001b[A\u001b[A\n",
      "\n",
      " 13%|█▎        | 8/61 [00:03<00:23,  2.30it/s]\u001b[A\u001b[A\n",
      "\n",
      " 15%|█▍        | 9/61 [00:03<00:22,  2.31it/s]\u001b[A\u001b[A\n",
      "\n",
      " 16%|█▋        | 10/61 [00:03<00:22,  2.28it/s]\u001b[A\u001b[A\n",
      "\n",
      " 18%|█▊        | 11/61 [00:04<00:21,  2.28it/s]\u001b[A\u001b[A\n",
      "\n",
      " 20%|█▉        | 12/61 [00:04<00:21,  2.28it/s]\u001b[A\u001b[A\n",
      "\n",
      " 21%|██▏       | 13/61 [00:05<00:21,  2.21it/s]\u001b[A\u001b[A\n",
      "\n",
      " 23%|██▎       | 14/61 [00:05<00:21,  2.18it/s]\u001b[A\u001b[A\n",
      "\n",
      " 25%|██▍       | 15/61 [00:06<00:21,  2.12it/s]\u001b[A\u001b[A\n",
      "\n",
      " 26%|██▌       | 16/61 [00:06<00:21,  2.08it/s]\u001b[A\u001b[A\n",
      "\n",
      " 28%|██▊       | 17/61 [00:07<00:21,  2.05it/s]\u001b[A\u001b[A\n",
      "\n",
      " 30%|██▉       | 18/61 [00:07<00:21,  2.03it/s]\u001b[A\u001b[A\n",
      "\n",
      " 31%|███       | 19/61 [00:08<00:21,  1.99it/s]\u001b[A\u001b[A\n",
      "\n",
      " 33%|███▎      | 20/61 [00:08<00:20,  1.96it/s]\u001b[A\u001b[A\n",
      "\n",
      " 34%|███▍      | 21/61 [00:09<00:20,  1.93it/s]\u001b[A\u001b[A\n",
      "\n",
      " 36%|███▌      | 22/61 [00:09<00:20,  1.87it/s]\u001b[A\u001b[A\n",
      "\n",
      " 38%|███▊      | 23/61 [00:10<00:20,  1.82it/s]\u001b[A\u001b[A\n",
      "\n",
      " 39%|███▉      | 24/61 [00:11<00:20,  1.81it/s]\u001b[A\u001b[A\n",
      "\n",
      " 41%|████      | 25/61 [00:11<00:20,  1.79it/s]\u001b[A\u001b[A\n",
      "\n",
      " 43%|████▎     | 26/61 [00:12<00:19,  1.77it/s]\u001b[A\u001b[A\n",
      "\n",
      " 44%|████▍     | 27/61 [00:12<00:19,  1.74it/s]\u001b[A\u001b[A\n",
      "\n",
      " 46%|████▌     | 28/61 [00:13<00:19,  1.71it/s]\u001b[A\u001b[A\n",
      "\n",
      " 48%|████▊     | 29/61 [00:14<00:19,  1.66it/s]\u001b[A\u001b[A\n",
      "\n",
      " 49%|████▉     | 30/61 [00:14<00:19,  1.62it/s]\u001b[A\u001b[A\n",
      "\n",
      " 51%|█████     | 31/61 [00:15<00:18,  1.60it/s]\u001b[A\u001b[A\n",
      "\n",
      " 52%|█████▏    | 32/61 [00:15<00:18,  1.59it/s]\u001b[A\u001b[A\n",
      "\n",
      " 54%|█████▍    | 33/61 [00:16<00:17,  1.58it/s]\u001b[A\u001b[A\n",
      "\n",
      " 56%|█████▌    | 34/61 [00:17<00:17,  1.57it/s]\u001b[A\u001b[A\n",
      "\n",
      " 57%|█████▋    | 35/61 [00:17<00:17,  1.53it/s]\u001b[A\u001b[A\n",
      "\n",
      " 59%|█████▉    | 36/61 [00:18<00:16,  1.52it/s]\u001b[A\u001b[A\n",
      "\n",
      " 61%|██████    | 37/61 [00:19<00:15,  1.50it/s]\u001b[A\u001b[A\n",
      "\n",
      " 62%|██████▏   | 38/61 [00:20<00:15,  1.47it/s]\u001b[A\u001b[A\n",
      "\n",
      " 64%|██████▍   | 39/61 [00:20<00:15,  1.43it/s]\u001b[A\u001b[A\n",
      "\n",
      " 66%|██████▌   | 40/61 [00:21<00:14,  1.43it/s]\u001b[A\u001b[A\n",
      "\n",
      " 67%|██████▋   | 41/61 [00:22<00:14,  1.41it/s]\u001b[A\u001b[A\n",
      "\n",
      " 69%|██████▉   | 42/61 [00:22<00:13,  1.39it/s]\u001b[A\u001b[A\n",
      "\n",
      " 70%|███████   | 43/61 [00:23<00:13,  1.37it/s]\u001b[A\u001b[A\n",
      "\n",
      " 72%|███████▏  | 44/61 [00:24<00:12,  1.35it/s]\u001b[A\u001b[A\n",
      "\n",
      " 74%|███████▍  | 45/61 [00:25<00:12,  1.33it/s]\u001b[A\u001b[A\n",
      "\n",
      " 75%|███████▌  | 46/61 [00:26<00:11,  1.30it/s]\u001b[A\u001b[A\n",
      "\n",
      " 77%|███████▋  | 47/61 [00:26<00:10,  1.28it/s]\u001b[A\u001b[A\n",
      "\n",
      " 79%|███████▊  | 48/61 [00:27<00:10,  1.26it/s]\u001b[A\u001b[A\n",
      "\n",
      " 80%|████████  | 49/61 [00:28<00:09,  1.24it/s]\u001b[A\u001b[A\n",
      "\n",
      " 82%|████████▏ | 50/61 [00:29<00:08,  1.23it/s]\u001b[A\u001b[A\n",
      "\n",
      " 84%|████████▎ | 51/61 [00:30<00:08,  1.21it/s]\u001b[A\u001b[A\n",
      "\n",
      " 85%|████████▌ | 52/61 [00:31<00:07,  1.19it/s]\u001b[A\u001b[A\n",
      "\n",
      " 87%|████████▋ | 53/61 [00:31<00:06,  1.17it/s]\u001b[A\u001b[A\n",
      "\n",
      " 89%|████████▊ | 54/61 [00:32<00:06,  1.17it/s]\u001b[A\u001b[A\n",
      "\n",
      " 90%|█████████ | 55/61 [00:33<00:05,  1.16it/s]\u001b[A\u001b[A\n",
      "\n",
      " 92%|█████████▏| 56/61 [00:34<00:04,  1.14it/s]\u001b[A\u001b[A\n",
      "\n",
      " 93%|█████████▎| 57/61 [00:35<00:03,  1.12it/s]\u001b[A\u001b[A\n",
      "\n",
      " 95%|█████████▌| 58/61 [00:36<00:02,  1.12it/s]\u001b[A\u001b[A\n",
      "\n",
      " 97%|█████████▋| 59/61 [00:37<00:01,  1.10it/s]\u001b[A\u001b[A\n",
      "\n",
      " 98%|█████████▊| 60/61 [00:38<00:00,  1.09it/s]\u001b[A\u001b[A\n",
      "\n",
      "100%|██████████| 61/61 [00:39<00:00,  1.08it/s]\u001b[A\u001b[A"
     ]
    },
    {
     "data": {
      "image/png": "[encoded data removed]",
      "text/plain": [
       "<Figure size 576x576 with 2 Axes>"
      ]
     },
     "metadata": {
      "needs_background": "light",
      "tags": []
     },
     "output_type": "display_data"
    }
   ],
   "source": [
    "generate_animation(grids,'1.mp4')"
   ]
  },
  {
   "cell_type": "markdown",
   "metadata": {
    "id": "QUai8YNJpndZ"
   },
   "source": [
    "# Part A\n",
    "Let the probability of initial burning trees be 0.001 and the inital density of the forest is varied. The simulations were ran for t = 100s and the final density of the forest at that time is calculated. Two cases can be considered, one with no immune probability and the one with prob_immune = 0.25"
   ]
  },
  {
   "cell_type": "code",
   "execution_count": null,
   "metadata": {
    "id": "AF3E8Kgepnda"
   },
   "outputs": [],
   "source": [
    "def tree_density(grid):\n",
    "    y = grid.flatten()\n",
    "    y1 = (y == 0).sum()\n",
    "    return 1 - y1/(grid.shape[0]*grid.shape[1])"
   ]
  },
  {
   "cell_type": "code",
   "execution_count": null,
   "metadata": {
    "colab": {
     "base_uri": "https://localhost:8080/",
     "height": 312
    },
    "id": "QooM2DZapnda",
    "outputId": "225781f1-bb48-45f8-a940-06513043031d"
   },
   "outputs": [
    {
     "name": "stderr",
     "output_type": "stream",
     "text": [
      "9it [00:02,  3.13it/s]\n"
     ]
    },
    {
     "data": {
      "image/png": "[encoded data removed]",
      "text/plain": [
       "<Figure size 432x288 with 1 Axes>"
      ]
     },
     "metadata": {
      "needs_background": "light",
      "tags": []
     },
     "output_type": "display_data"
    }
   ],
   "source": [
    "np.random.seed(8)\n",
    "init_density = np.arange(0.3,1.1,0.1)\n",
    "n = 50\n",
    "#prob_tree = 0.75\n",
    "prob_burning = 0.005\n",
    "prob_light = 0\n",
    "prob_immune = 0\n",
    "t = 30\n",
    "tt = np.arange(0,t+1,1)\n",
    "plt.figure()\n",
    "for prob_tree in tqdm(init_density, initial=1, position=0):\n",
    "    den = []\n",
    "    grids = fire(n, prob_tree, prob_burning, prob_light, prob_immune, t)\n",
    "    for i in range(t+1):\n",
    "        den.append(tree_density(grids[i,:,:]))\n",
    "    plt.plot(tt, den, label='init_density='+str(round(prob_tree,2)))\n",
    "plt.legend()\n",
    "plt.title('Tree cover density')\n",
    "plt.xlabel('time')\n",
    "plt.ylabel('density of trees')\n",
    "plt.grid()\n",
    "plt.show()"
   ]
  },
  {
   "cell_type": "code",
   "execution_count": null,
   "metadata": {
    "id": "XxUZAnWTpndc"
   },
   "outputs": [],
   "source": [
    "def forest_analysis(n, init_density, prob_burning, prob_light, prob_immune, t):\n",
    "    #init_density = np.arange(0.1, 1.1, 0.1)\n",
    "    final_density = []\n",
    "    for prob_tree in tqdm(init_density, initial=1, position=0):\n",
    "        sum_den = 0\n",
    "        for i in range(10):\n",
    "            np.random.seed(i)\n",
    "            grids = fire(n, prob_tree, prob_burning, prob_light, prob_immune, t)\n",
    "            sum_den += tree_density(grids[t,:,:])\n",
    "        final_density.append(sum_den/10)\n",
    "    final_density = np.array(final_density)\n",
    "    return final_density"
   ]
  },
  {
   "cell_type": "code",
   "execution_count": null,
   "metadata": {
    "colab": {
     "base_uri": "https://localhost:8080/",
     "height": 499
    },
    "id": "XAd8a2C-pndc",
    "outputId": "5933359a-0b75-44ff-c569-e0403405f139"
   },
   "outputs": [
    {
     "name": "stderr",
     "output_type": "stream",
     "text": [
      "20it [01:36,  4.80s/it]\n",
      "20it [01:36,  4.80s/it]\n",
      "20it [01:36,  4.82s/it]\n",
      "20it [01:36,  4.82s/it]\n",
      "20it [01:36,  4.82s/it]\n",
      "20it [01:36,  4.81s/it]\n",
      "20it [01:36,  4.80s/it]\n",
      "20it [01:35,  4.77s/it]\n",
      "20it [01:35,  4.80s/it]\n",
      "20it [01:35,  4.78s/it]\n",
      "11it [16:00, 87.33s/it]\n",
      "2it [16:00, 480.33s/it]\n"
     ]
    },
    {
     "data": {
      "image/png": "[encoded data removed]",
      "text/plain": [
       "<Figure size 432x288 with 1 Axes>"
      ]
     },
     "metadata": {
      "needs_background": "light",
      "tags": []
     },
     "output_type": "display_data"
    }
   ],
   "source": [
    "n = 50\n",
    "prob_burning = np.array([0.01])\n",
    "prob_light = 0\n",
    "prob_immune = 0\n",
    "t = 50\n",
    "init_density = np.arange(0.1, 1.05, 0.05)\n",
    "plt.figure()\n",
    "for burn in tqdm(prob_burning, initial=1, position=0):\n",
    "    avg_fin_den = 0\n",
    "    for exp in tqdm(range(10), initial=1, position=0):\n",
    "        np.random.seed(exp)\n",
    "        fin_den = forest_analysis(n, init_density, burn, prob_light, prob_immune, t)\n",
    "        avg_fin_den += fin_den\n",
    "    avg_fin_den = avg_fin_den/10\n",
    "    plt.plot(init_density,avg_fin_den,label='init_burning='+str(burn))\n",
    "plt.legend()\n",
    "plt.title('Forest cover density analysis')\n",
    "plt.xlabel('Inital density of trees')\n",
    "plt.ylabel('Final density of trees at t=50')\n",
    "plt.grid()\n",
    "plt.show()"
   ]
  },
  {
   "cell_type": "code",
   "execution_count": null,
   "metadata": {
    "colab": {
     "base_uri": "https://localhost:8080/",
     "height": 363
    },
    "id": "xbPJn0dPpnde",
    "outputId": "95785077-e969-4e40-9433-34d677a0cf84",
    "scrolled": false
   },
   "outputs": [
    {
     "name": "stderr",
     "output_type": "stream",
     "text": [
      "14it [01:05,  4.66s/it]\n",
      "14it [01:01,  4.42s/it]\n",
      "14it [00:58,  4.18s/it]\n",
      "14it [00:55,  3.97s/it]\n"
     ]
    },
    {
     "data": {
      "image/png": "[encoded data removed]",
      "text/plain": [
       "<Figure size 432x288 with 1 Axes>"
      ]
     },
     "metadata": {
      "needs_background": "light",
      "tags": []
     },
     "output_type": "display_data"
    }
   ],
   "source": [
    "n = 50\n",
    "prob_burning = np.array([0.01, 0.02, 0.05, 0.1])\n",
    "prob_light = 0\n",
    "prob_immune = 0\n",
    "t = 50\n",
    "init_density = np.arange(0.4, 1.05, 0.05)\n",
    "plt.figure()\n",
    "for burn in prob_burning:\n",
    "    fin_den = forest_analysis(n, init_density, burn, prob_light, prob_immune, t)\n",
    "    plt.plot(init_density,fin_den,label='init_burning='+str(burn))\n",
    "plt.legend()\n",
    "plt.title('Forest cover density analysis')\n",
    "plt.xlabel('Inital density of trees')\n",
    "plt.ylabel('Final density of trees at t=50')\n",
    "plt.grid()\n",
    "plt.show()"
   ]
  },
  {
   "cell_type": "code",
   "execution_count": null,
   "metadata": {
    "colab": {
     "base_uri": "https://localhost:8080/",
     "height": 380
    },
    "id": "iuipJl-Wpndf",
    "outputId": "a9fe6c23-711e-47c7-d618-1ce3f2564006",
    "scrolled": false
   },
   "outputs": [
    {
     "name": "stderr",
     "output_type": "stream",
     "text": [
      "14it [00:10,  1.28it/s]\n",
      "14it [00:41,  2.96s/it]\n",
      "14it [01:33,  6.69s/it]\n",
      "14it [02:47, 11.95s/it]\n",
      "14it [04:21, 18.67s/it]\n"
     ]
    },
    {
     "data": {
      "image/png": "[encoded data removed]",
      "text/plain": [
       "<Figure size 432x288 with 1 Axes>"
      ]
     },
     "metadata": {
      "needs_background": "light",
      "tags": []
     },
     "output_type": "display_data"
    }
   ],
   "source": [
    "n = np.array([20, 40, 60, 80, 100])\n",
    "prob_burning = 0.01\n",
    "prob_light = 0\n",
    "prob_immune = 0\n",
    "t = 50\n",
    "init_density = np.arange(0.4, 1.05, 0.05)\n",
    "plt.figure()\n",
    "for nn in n:\n",
    "    fin_den = forest_analysis(nn, init_density, prob_burning, prob_light, prob_immune, t)\n",
    "    plt.plot(init_density,fin_den,label='size of forest='+str(nn))\n",
    "plt.legend()\n",
    "plt.title('Forest cover density analysis with varying forest sizes')\n",
    "plt.xlabel('Inital density of trees')\n",
    "plt.ylabel('Final density of trees at t=50')\n",
    "plt.grid()\n",
    "plt.show()"
   ]
  },
  {
   "cell_type": "markdown",
   "metadata": {
    "id": "sd963NCVpndf"
   },
   "source": [
    "# Project 9\n",
    "Fire simulation of 17 x 17 grid forest, all cells covered with trees and initially center tree burning. The probability that a tree catches fire is burnProb which the simulation takes into consideration, the code also returns the percent of forest burnt."
   ]
  },
  {
   "cell_type": "code",
   "execution_count": null,
   "metadata": {
    "id": "cEpvcdYtpndf"
   },
   "outputs": [],
   "source": [
    "np.random.seed(2)\n",
    "n = 17\n",
    "prob_tree = 1\n",
    "prob_burning = 0\n",
    "prob_light = 0\n",
    "prob_immune = 0.5\n",
    "# prob_immune = 1 - prob_catch_fire\n",
    "t = 50\n",
    "forest = np.ones((n,n))\n",
    "forest[8][8] = BURNING\n",
    "grids = np.zeros((t+1, n, n))\n",
    "grids[0,:,:] = forest\n",
    "for i in range(1, t+1):\n",
    "    forest_ext = periodic_lat(forest)\n",
    "    forest = apply_extended(forest_ext, prob_light, prob_immune)\n",
    "    grids[i,:,:] = forest"
   ]
  },
  {
   "cell_type": "code",
   "execution_count": null,
   "metadata": {
    "colab": {
     "base_uri": "https://localhost:8080/",
     "height": 1000
    },
    "id": "zAwJzGT_pndg",
    "outputId": "a864496e-4276-48b1-ad25-6057a930869f"
   },
   "outputs": [
    {
     "name": "stderr",
     "output_type": "stream",
     "text": [
      "\n",
      "  2%|▏         | 1/51 [00:00<?, ?it/s]\u001b[A\n",
      "  4%|▍         | 2/51 [00:00<00:23,  2.10it/s]\u001b[A\n",
      "  6%|▌         | 3/51 [00:00<00:19,  2.49it/s]\u001b[A\n",
      "  8%|▊         | 4/51 [00:00<00:16,  2.80it/s]\u001b[A\n",
      " 10%|▉         | 5/51 [00:01<00:14,  3.14it/s]\u001b[A\n",
      " 12%|█▏        | 6/51 [00:01<00:13,  3.37it/s]\u001b[A\n",
      " 14%|█▎        | 7/51 [00:01<00:12,  3.53it/s]\u001b[A\n",
      " 16%|█▌        | 8/51 [00:01<00:11,  3.75it/s]\u001b[A\n",
      " 18%|█▊        | 9/51 [00:02<00:10,  3.87it/s]\u001b[A\n",
      " 20%|█▉        | 10/51 [00:02<00:10,  3.87it/s]\u001b[A\n",
      " 22%|██▏       | 11/51 [00:02<00:10,  3.90it/s]\u001b[A\n",
      " 24%|██▎       | 12/51 [00:02<00:09,  3.94it/s]\u001b[A\n",
      " 25%|██▌       | 13/51 [00:03<00:09,  3.98it/s]\u001b[A\n",
      " 27%|██▋       | 14/51 [00:03<00:09,  4.00it/s]\u001b[A\n",
      " 29%|██▉       | 15/51 [00:03<00:09,  3.96it/s]\u001b[A\n",
      " 31%|███▏      | 16/51 [00:03<00:08,  3.94it/s]\u001b[A\n",
      " 33%|███▎      | 17/51 [00:04<00:08,  3.89it/s]\u001b[A\n",
      " 35%|███▌      | 18/51 [00:04<00:08,  3.88it/s]\u001b[A\n",
      " 37%|███▋      | 19/51 [00:04<00:08,  3.77it/s]\u001b[A\n",
      " 39%|███▉      | 20/51 [00:05<00:08,  3.70it/s]\u001b[A\n",
      " 41%|████      | 21/51 [00:05<00:08,  3.74it/s]\u001b[A\n",
      " 43%|████▎     | 22/51 [00:05<00:07,  3.67it/s]\u001b[A\n",
      " 45%|████▌     | 23/51 [00:05<00:07,  3.64it/s]\u001b[A\n",
      " 47%|████▋     | 24/51 [00:06<00:07,  3.55it/s]\u001b[A\n",
      " 49%|████▉     | 25/51 [00:06<00:07,  3.53it/s]\u001b[A\n",
      " 51%|█████     | 26/51 [00:06<00:07,  3.43it/s]\u001b[A\n",
      " 53%|█████▎    | 27/51 [00:07<00:07,  3.39it/s]\u001b[A\n",
      " 55%|█████▍    | 28/51 [00:07<00:06,  3.38it/s]\u001b[A\n",
      " 57%|█████▋    | 29/51 [00:07<00:06,  3.30it/s]\u001b[A\n",
      " 59%|█████▉    | 30/51 [00:07<00:06,  3.33it/s]\u001b[A\n",
      " 61%|██████    | 31/51 [00:08<00:06,  3.31it/s]\u001b[A\n",
      " 63%|██████▎   | 32/51 [00:08<00:05,  3.26it/s]\u001b[A\n",
      " 65%|██████▍   | 33/51 [00:08<00:05,  3.22it/s]\u001b[A\n",
      " 67%|██████▋   | 34/51 [00:09<00:05,  3.21it/s]\u001b[A\n",
      " 69%|██████▊   | 35/51 [00:09<00:05,  3.19it/s]\u001b[A\n",
      " 71%|███████   | 36/51 [00:09<00:04,  3.16it/s]\u001b[A\n",
      " 73%|███████▎  | 37/51 [00:10<00:04,  3.09it/s]\u001b[A\n",
      " 75%|███████▍  | 38/51 [00:10<00:04,  3.06it/s]\u001b[A\n",
      " 76%|███████▋  | 39/51 [00:10<00:04,  3.00it/s]\u001b[A\n",
      " 78%|███████▊  | 40/51 [00:11<00:03,  2.99it/s]\u001b[A\n",
      " 80%|████████  | 41/51 [00:11<00:03,  2.94it/s]\u001b[A\n",
      " 82%|████████▏ | 42/51 [00:11<00:03,  2.92it/s]\u001b[A\n",
      " 84%|████████▍ | 43/51 [00:12<00:02,  2.91it/s]\u001b[A\n",
      " 86%|████████▋ | 44/51 [00:12<00:02,  2.79it/s]\u001b[A\n",
      " 88%|████████▊ | 45/51 [00:13<00:02,  2.78it/s]\u001b[A\n",
      " 90%|█████████ | 46/51 [00:13<00:01,  2.74it/s]\u001b[A\n",
      " 92%|█████████▏| 47/51 [00:13<00:01,  2.75it/s]\u001b[A\n",
      " 94%|█████████▍| 48/51 [00:14<00:01,  2.72it/s]\u001b[A\n",
      " 96%|█████████▌| 49/51 [00:14<00:00,  2.73it/s]\u001b[A\n",
      " 98%|█████████▊| 50/51 [00:14<00:00,  2.72it/s]\u001b[A\n",
      "100%|██████████| 51/51 [00:15<00:00,  2.70it/s]\u001b[A"
     ]
    },
    {
     "data": {
      "image/png": "[encoded data removed]",
      "text/plain": [
       "<Figure size 576x576 with 2 Axes>"
      ]
     },
     "metadata": {
      "needs_background": "light",
      "tags": []
     },
     "output_type": "display_data"
    }
   ],
   "source": [
    "generate_animation(grids,'2.mp4')"
   ]
  },
  {
   "cell_type": "code",
   "execution_count": null,
   "metadata": {
    "colab": {
     "base_uri": "https://localhost:8080/",
     "height": 295
    },
    "id": "EvQpZHRtpndg",
    "outputId": "73448c00-22a5-4d7c-84b5-638b5e46de07",
    "scrolled": false
   },
   "outputs": [
    {
     "data": {
      "image/png": "[encoded data removed]",
      "text/plain": [
       "<Figure size 432x288 with 1 Axes>"
      ]
     },
     "metadata": {
      "needs_background": "light",
      "tags": []
     },
     "output_type": "display_data"
    }
   ],
   "source": [
    "burn_prob = np.array([0.1, 0.2, 0.3, 0.4, 0.5, 0.6, 0.7, 0.8, 0.9])\n",
    "t = 30\n",
    "tt = np.arange(0,t+1,1)\n",
    "plt.figure()\n",
    "for jj in burn_prob:\n",
    "    prob_immune = 1 - jj\n",
    "    avg_burn = 0\n",
    "    for exp in range(10):\n",
    "        forest = np.ones((n,n))\n",
    "        forest[8][8] = BURNING\n",
    "        grids = np.zeros((t+1, n, n))\n",
    "        grids[0,:,:] = forest\n",
    "        burn = []\n",
    "        burn.append(1 - tree_density(forest))\n",
    "        for i in range(1, t+1):\n",
    "            forest_ext = periodic_lat(forest)\n",
    "            forest = apply_extended(forest_ext, prob_light, prob_immune)\n",
    "            grids[i,:,:] = forest\n",
    "            burn.append(1 - tree_density(forest))\n",
    "        avg_burn += np.array(burn)\n",
    "    avg_burn = avg_burn/10\n",
    "    plt.plot(tt, avg_burn, label='burn_prob='+str(jj))\n",
    "plt.legend()\n",
    "plt.title('Forest burnt down w.r.t. time')\n",
    "plt.xlabel('time')\n",
    "plt.ylabel('Fraction of forest burnt down')\n",
    "plt.grid()\n",
    "plt.show()"
   ]
  },
  {
   "cell_type": "markdown",
   "metadata": {
    "id": "AUjlM590pndh"
   },
   "source": [
    "# Excerise 1\n",
    "A tree takes 2 time steps to burn completely."
   ]
  },
  {
   "cell_type": "code",
   "execution_count": null,
   "metadata": {
    "id": "7OzBLGeQpndi"
   },
   "outputs": [],
   "source": [
    "BURN_FIN = 3"
   ]
  },
  {
   "cell_type": "code",
   "execution_count": null,
   "metadata": {
    "id": "ayfDkpRRpndj"
   },
   "outputs": [],
   "source": [
    "def spread2(site, N, E, S, W, prob_light, prob_immune):\n",
    "    if(site == EMPTY or site == BURN_FIN):\n",
    "        return EMPTY\n",
    "    elif(site == BURNING):\n",
    "        return BURN_FIN\n",
    "    else:\n",
    "        if(N==BURNING or E==BURNING or S==BURNING or W==BURNING \n",
    "           or N==BURN_FIN or E==BURN_FIN or S==BURN_FIN or W==BURN_FIN):\n",
    "            if(np.random.uniform(0,1) < prob_immune):\n",
    "                return TREE\n",
    "            else:\n",
    "                return BURNING\n",
    "        else:\n",
    "            if(np.random.uniform(0,1) < prob_light * (1 - prob_immune)):\n",
    "                return BURNING\n",
    "            else:\n",
    "                return TREE"
   ]
  },
  {
   "cell_type": "code",
   "execution_count": null,
   "metadata": {
    "id": "e6mVnRYvpndk"
   },
   "outputs": [],
   "source": [
    "def apply_extended2(grid, prob_light, prob_immune):\n",
    "    n = grid.shape[0] - 2\n",
    "    new_grid = np.zeros((n,n))\n",
    "    for i in range(1, n+1):\n",
    "        for j in range(1, n+1):\n",
    "            site = grid[i][j]\n",
    "            N = grid[i-1][j]\n",
    "            E = grid[i][j+1]\n",
    "            S = grid[i+1][j]\n",
    "            W = grid[i][j-1]\n",
    "            new_grid[i-1][j-1] = spread2(site, N, E, S, W, prob_light, prob_immune)\n",
    "    return new_grid"
   ]
  },
  {
   "cell_type": "code",
   "execution_count": null,
   "metadata": {
    "id": "BUA96Mpdpndl"
   },
   "outputs": [],
   "source": [
    "def fire2(n, prob_tree, prob_burning, prob_light, prob_immune, t):\n",
    "    forest = init_forest(n, prob_tree, prob_burning)\n",
    "    grids = np.zeros((t+1, n, n))\n",
    "    grids[0,:,:] = forest\n",
    "    for i in range(1, t+1):\n",
    "        forest_ext = periodic_lat(forest)\n",
    "        forest = apply_extended2(forest_ext, prob_light, prob_immune)\n",
    "        grids[i,:,:] = forest\n",
    "    return grids"
   ]
  },
  {
   "cell_type": "code",
   "execution_count": null,
   "metadata": {
    "id": "Xnl_-7HSpndl"
   },
   "outputs": [],
   "source": [
    "color_map2 = {0: np.array([255, 255, 0]), # yellow\n",
    "             1: np.array([0, 180, 0]), # green\n",
    "             2: np.array([255, 0, 0]), # orange\n",
    "             3: np.array([255, 0, 0]), # orange\n",
    "             }  \n",
    "def colour_forest2(data):\n",
    "    data_3d = np.ndarray(shape=(data.shape[0], data.shape[1], 3), dtype=int)\n",
    "    for i in range(0, data.shape[0]):\n",
    "        for j in range(0, data.shape[1]):\n",
    "            data_3d[i][j] = color_map2[data[i][j]]\n",
    "    return data_3d"
   ]
  },
  {
   "cell_type": "code",
   "execution_count": null,
   "metadata": {
    "id": "7G5dWixgpndl"
   },
   "outputs": [],
   "source": [
    "np.random.seed(2)\n",
    "n = 50\n",
    "prob_tree = 0.75\n",
    "prob_burning = 0.001\n",
    "prob_light = 0\n",
    "prob_immune = 0\n",
    "t = 100\n",
    "grids = fire2(n, prob_tree, prob_burning, prob_light, prob_immune, t)"
   ]
  },
  {
   "cell_type": "code",
   "execution_count": null,
   "metadata": {
    "id": "KwUmThPzJs8G"
   },
   "outputs": [],
   "source": [
    "def generate_cf2_animation(grids, filename):\n",
    "    t = grids.shape[0]\n",
    "    fig, (ax, cbar_ax) = plt.subplots(1, 2, gridspec_kw = grid_kws, figsize=(8, 8))\n",
    "\n",
    "    def render_frame(i):\n",
    "        g = sns.heatmap(colour_forest2(grids[i])[0],\n",
    "            ax = ax,\n",
    "            cbar_ax = cbar_ax,\n",
    "            cbar = False,\n",
    "            # annot = labels,\n",
    "            vmin = 0,\n",
    "            vmax = 2,\n",
    "            cmap=c_map)\n",
    "        ax.set_title('t = ' + str(i))\n",
    "        # g.cax.set_visible(False)\n",
    "\n",
    "    anim = FuncAnimation(fig = fig, func = render_frame, frames=tqdm(np.arange(len(grids)), initial=1), interval = 1000.0/5, blit = False, repeat = False)\n",
    "\n",
    "    anim.save(filename, writer = 'ffmpeg', fps = 5)"
   ]
  },
  {
   "cell_type": "code",
   "execution_count": null,
   "metadata": {
    "colab": {
     "base_uri": "https://localhost:8080/",
     "height": 1000
    },
    "id": "bWmx19ctpndm",
    "outputId": "07b721a0-1249-492b-cb2f-8f74a4ed069d"
   },
   "outputs": [
    {
     "name": "stderr",
     "output_type": "stream",
     "text": [
      "\n",
      "\n",
      "  1%|          | 1/101 [00:00<?, ?it/s]\u001b[A\u001b[A\n",
      "\n",
      "  2%|▏         | 2/101 [00:00<01:18,  1.26it/s]\u001b[A\u001b[A\n",
      "\n",
      "  3%|▎         | 3/101 [00:01<01:04,  1.52it/s]\u001b[A\u001b[A\n",
      "\n",
      "  4%|▍         | 4/101 [00:01<00:55,  1.74it/s]\u001b[A\u001b[A\n",
      "\n",
      "  5%|▍         | 5/101 [00:01<00:49,  1.92it/s]\u001b[A\u001b[A\n",
      "\n",
      "  6%|▌         | 6/101 [00:02<00:45,  2.10it/s]\u001b[A\u001b[A\n",
      "\n",
      "  7%|▋         | 7/101 [00:02<00:42,  2.20it/s]\u001b[A\u001b[A\n",
      "\n",
      "  8%|▊         | 8/101 [00:03<00:40,  2.28it/s]\u001b[A\u001b[A\n",
      "\n",
      "  9%|▉         | 9/101 [00:03<00:39,  2.31it/s]\u001b[A\u001b[A\n",
      "\n",
      " 10%|▉         | 10/101 [00:03<00:39,  2.33it/s]\u001b[A\u001b[A\n",
      "\n",
      " 11%|█         | 11/101 [00:04<00:39,  2.30it/s]\u001b[A\u001b[A\n",
      "\n",
      " 12%|█▏        | 12/101 [00:04<00:39,  2.26it/s]\u001b[A\u001b[A\n",
      "\n",
      " 13%|█▎        | 13/101 [00:05<00:39,  2.21it/s]\u001b[A\u001b[A\n",
      "\n",
      " 14%|█▍        | 14/101 [00:05<00:40,  2.16it/s]\u001b[A\u001b[A\n",
      "\n",
      " 15%|█▍        | 15/101 [00:06<00:40,  2.14it/s]\u001b[A\u001b[A\n",
      "\n",
      " 16%|█▌        | 16/101 [00:06<00:40,  2.08it/s]\u001b[A\u001b[A\n",
      "\n",
      " 17%|█▋        | 17/101 [00:07<00:40,  2.07it/s]\u001b[A\u001b[A\n",
      "\n",
      " 18%|█▊        | 18/101 [00:07<00:41,  2.02it/s]\u001b[A\u001b[A\n",
      "\n",
      " 19%|█▉        | 19/101 [00:08<00:41,  1.99it/s]\u001b[A\u001b[A\n",
      "\n",
      " 20%|█▉        | 20/101 [00:08<00:41,  1.96it/s]\u001b[A\u001b[A\n",
      "\n",
      " 21%|██        | 21/101 [00:09<00:41,  1.92it/s]\u001b[A\u001b[A\n",
      "\n",
      " 22%|██▏       | 22/101 [00:09<00:41,  1.89it/s]\u001b[A\u001b[A\n",
      "\n",
      " 23%|██▎       | 23/101 [00:10<00:41,  1.87it/s]\u001b[A\u001b[A\n",
      "\n",
      " 24%|██▍       | 24/101 [00:11<00:41,  1.85it/s]\u001b[A\u001b[A\n",
      "\n",
      " 25%|██▍       | 25/101 [00:11<00:42,  1.80it/s]\u001b[A\u001b[A\n",
      "\n",
      " 26%|██▌       | 26/101 [00:12<00:41,  1.79it/s]\u001b[A\u001b[A\n",
      "\n",
      " 27%|██▋       | 27/101 [00:12<00:41,  1.77it/s]\u001b[A\u001b[A\n",
      "\n",
      " 28%|██▊       | 28/101 [00:13<00:42,  1.73it/s]\u001b[A\u001b[A\n",
      "\n",
      " 29%|██▊       | 29/101 [00:14<00:42,  1.69it/s]\u001b[A\u001b[A\n",
      "\n",
      " 30%|██▉       | 30/101 [00:14<00:42,  1.65it/s]\u001b[A\u001b[A\n",
      "\n",
      " 31%|███       | 31/101 [00:15<00:42,  1.63it/s]\u001b[A\u001b[A\n",
      "\n",
      " 32%|███▏      | 32/101 [00:15<00:43,  1.60it/s]\u001b[A\u001b[A\n",
      "\n",
      " 33%|███▎      | 33/101 [00:16<00:43,  1.57it/s]\u001b[A\u001b[A\n",
      "\n",
      " 34%|███▎      | 34/101 [00:17<00:43,  1.56it/s]\u001b[A\u001b[A\n",
      "\n",
      " 35%|███▍      | 35/101 [00:17<00:43,  1.51it/s]\u001b[A\u001b[A\n",
      "\n",
      " 36%|███▌      | 36/101 [00:18<00:43,  1.48it/s]\u001b[A\u001b[A\n",
      "\n",
      " 37%|███▋      | 37/101 [00:19<00:43,  1.48it/s]\u001b[A\u001b[A\n",
      "\n",
      " 38%|███▊      | 38/101 [00:20<00:43,  1.45it/s]\u001b[A\u001b[A\n",
      "\n",
      " 39%|███▊      | 39/101 [00:20<00:43,  1.43it/s]\u001b[A\u001b[A\n",
      "\n",
      " 40%|███▉      | 40/101 [00:21<00:43,  1.42it/s]\u001b[A\u001b[A\n",
      "\n",
      " 41%|████      | 41/101 [00:22<00:42,  1.40it/s]\u001b[A\u001b[A\n",
      "\n",
      " 42%|████▏     | 42/101 [00:22<00:42,  1.38it/s]\u001b[A\u001b[A\n",
      "\n",
      " 43%|████▎     | 43/101 [00:23<00:42,  1.37it/s]\u001b[A\u001b[A\n",
      "\n",
      " 44%|████▎     | 44/101 [00:24<00:42,  1.35it/s]\u001b[A\u001b[A\n",
      "\n",
      " 45%|████▍     | 45/101 [00:25<00:41,  1.34it/s]\u001b[A\u001b[A\n",
      "\n",
      " 46%|████▌     | 46/101 [00:26<00:41,  1.32it/s]\u001b[A\u001b[A\n",
      "\n",
      " 47%|████▋     | 47/101 [00:26<00:41,  1.31it/s]\u001b[A\u001b[A\n",
      "\n",
      " 48%|████▊     | 48/101 [00:27<00:41,  1.28it/s]\u001b[A\u001b[A\n",
      "\n",
      " 49%|████▊     | 49/101 [00:28<00:41,  1.27it/s]\u001b[A\u001b[A\n",
      "\n",
      " 50%|████▉     | 50/101 [00:29<00:40,  1.26it/s]\u001b[A\u001b[A\n",
      "\n",
      " 50%|█████     | 51/101 [00:30<00:40,  1.24it/s]\u001b[A\u001b[A\n",
      "\n",
      " 51%|█████▏    | 52/101 [00:30<00:39,  1.23it/s]\u001b[A\u001b[A\n",
      "\n",
      " 52%|█████▏    | 53/101 [00:31<00:39,  1.21it/s]\u001b[A\u001b[A\n",
      "\n",
      " 53%|█████▎    | 54/101 [00:32<00:38,  1.22it/s]\u001b[A\u001b[A\n",
      "\n",
      " 54%|█████▍    | 55/101 [00:33<00:38,  1.20it/s]\u001b[A\u001b[A\n",
      "\n",
      " 55%|█████▌    | 56/101 [00:34<00:37,  1.19it/s]\u001b[A\u001b[A\n",
      "\n",
      " 56%|█████▋    | 57/101 [00:35<00:37,  1.17it/s]\u001b[A\u001b[A\n",
      "\n",
      " 57%|█████▋    | 58/101 [00:36<00:37,  1.15it/s]\u001b[A\u001b[A\n",
      "\n",
      " 58%|█████▊    | 59/101 [00:36<00:36,  1.14it/s]\u001b[A\u001b[A\n",
      "\n",
      " 59%|█████▉    | 60/101 [00:37<00:36,  1.12it/s]\u001b[A\u001b[A\n",
      "\n",
      " 60%|██████    | 61/101 [00:38<00:36,  1.11it/s]\u001b[A\u001b[A\n",
      "\n",
      " 61%|██████▏   | 62/101 [00:39<00:35,  1.11it/s]\u001b[A\u001b[A\n",
      "\n",
      " 62%|██████▏   | 63/101 [00:40<00:34,  1.10it/s]\u001b[A\u001b[A\n",
      "\n",
      " 63%|██████▎   | 64/101 [00:41<00:34,  1.09it/s]\u001b[A\u001b[A\n",
      "\n",
      " 64%|██████▍   | 65/101 [00:42<00:33,  1.07it/s]\u001b[A\u001b[A\n",
      "\n",
      " 65%|██████▌   | 66/101 [00:43<00:33,  1.05it/s]\u001b[A\u001b[A\n",
      "\n",
      " 66%|██████▋   | 67/101 [00:44<00:32,  1.04it/s]\u001b[A\u001b[A\n",
      "\n",
      " 67%|██████▋   | 68/101 [00:45<00:31,  1.04it/s]\u001b[A\u001b[A\n",
      "\n",
      " 68%|██████▊   | 69/101 [00:46<00:31,  1.03it/s]\u001b[A\u001b[A\n",
      "\n",
      " 69%|██████▉   | 70/101 [00:47<00:30,  1.02it/s]\u001b[A\u001b[A\n",
      "\n",
      " 70%|███████   | 71/101 [00:48<00:30,  1.00s/it]\u001b[A\u001b[A\n",
      "\n",
      " 71%|███████▏  | 72/101 [00:49<00:29,  1.01s/it]\u001b[A\u001b[A\n",
      "\n",
      " 72%|███████▏  | 73/101 [00:50<00:28,  1.02s/it]\u001b[A\u001b[A\n",
      "\n",
      " 73%|███████▎  | 74/101 [00:51<00:27,  1.02s/it]\u001b[A\u001b[A\n",
      "\n",
      " 74%|███████▍  | 75/101 [00:52<00:26,  1.04s/it]\u001b[A\u001b[A\n",
      "\n",
      " 75%|███████▌  | 76/101 [00:53<00:26,  1.04s/it]\u001b[A\u001b[A\n",
      "\n",
      " 76%|███████▌  | 77/101 [00:54<00:25,  1.04s/it]\u001b[A\u001b[A\n",
      "\n",
      " 77%|███████▋  | 78/101 [00:55<00:24,  1.06s/it]\u001b[A\u001b[A\n",
      "\n",
      " 78%|███████▊  | 79/101 [00:57<00:23,  1.06s/it]\u001b[A\u001b[A\n",
      "\n",
      " 79%|███████▉  | 80/101 [00:58<00:22,  1.07s/it]\u001b[A\u001b[A\n",
      "\n",
      " 80%|████████  | 81/101 [00:59<00:21,  1.08s/it]\u001b[A\u001b[A\n",
      "\n",
      " 81%|████████  | 82/101 [01:00<00:20,  1.09s/it]\u001b[A\u001b[A\n",
      "\n",
      " 82%|████████▏ | 83/101 [01:01<00:19,  1.10s/it]\u001b[A\u001b[A\n",
      "\n",
      " 83%|████████▎ | 84/101 [01:02<00:18,  1.11s/it]\u001b[A\u001b[A\n",
      "\n",
      " 84%|████████▍ | 85/101 [01:03<00:17,  1.12s/it]\u001b[A\u001b[A\n",
      "\n",
      " 85%|████████▌ | 86/101 [01:04<00:16,  1.13s/it]\u001b[A\u001b[A\n",
      "\n",
      " 86%|████████▌ | 87/101 [01:05<00:15,  1.13s/it]\u001b[A\u001b[A\n",
      "\n",
      " 87%|████████▋ | 88/101 [01:07<00:14,  1.15s/it]\u001b[A\u001b[A\n",
      "\n",
      " 88%|████████▊ | 89/101 [01:08<00:13,  1.15s/it]\u001b[A\u001b[A\n",
      "\n",
      " 89%|████████▉ | 90/101 [01:09<00:12,  1.16s/it]\u001b[A\u001b[A\n",
      "\n",
      " 90%|█████████ | 91/101 [01:10<00:11,  1.17s/it]\u001b[A\u001b[A\n",
      "\n",
      " 91%|█████████ | 92/101 [01:11<00:10,  1.18s/it]\u001b[A\u001b[A\n",
      "\n",
      " 92%|█████████▏| 93/101 [01:13<00:09,  1.19s/it]\u001b[A\u001b[A\n",
      "\n",
      " 93%|█████████▎| 94/101 [01:14<00:08,  1.20s/it]\u001b[A\u001b[A\n",
      "\n",
      " 94%|█████████▍| 95/101 [01:15<00:07,  1.21s/it]\u001b[A\u001b[A\n",
      "\n",
      " 95%|█████████▌| 96/101 [01:16<00:06,  1.22s/it]\u001b[A\u001b[A\n",
      "\n",
      " 96%|█████████▌| 97/101 [01:18<00:04,  1.22s/it]\u001b[A\u001b[A\n",
      "\n",
      " 97%|█████████▋| 98/101 [01:19<00:03,  1.24s/it]\u001b[A\u001b[A\n",
      "\n",
      " 98%|█████████▊| 99/101 [01:20<00:02,  1.25s/it]\u001b[A\u001b[A\n",
      "\n",
      " 99%|█████████▉| 100/101 [01:21<00:01,  1.25s/it]\u001b[A\u001b[A\n",
      "\n",
      "100%|██████████| 101/101 [01:23<00:00,  1.27s/it]\u001b[A\u001b[A"
     ]
    },
    {
     "data": {
      "image/png": "[encoded data removed]",
      "text/plain": [
       "<Figure size 576x576 with 2 Axes>"
      ]
     },
     "metadata": {
      "needs_background": "light",
      "tags": []
     },
     "output_type": "display_data"
    }
   ],
   "source": [
    "# t = grids.shape[0]\n",
    "# fig, (ax, cbar_ax) = plt.subplots(1, 2, gridspec_kw = grid_kws, figsize=(8, 8))\n",
    "\n",
    "# def init():\n",
    "\n",
    "#     plt.clf()\n",
    "#     plt.imshow(colour_forest2(grids[0,:,:]))\n",
    "#     plt.title('Forest at t = 0')\n",
    "\n",
    "# def animate(i):\n",
    "#     plt.clf()\n",
    "#     plt.imshow(colour_forest2(grids[i,:,:]))\n",
    "#     plt.title('Forest at t = '+str(i))\n",
    "\n",
    "generate_animation(grids,'3.mp4')"
   ]
  },
  {
   "cell_type": "code",
   "execution_count": null,
   "metadata": {
    "id": "dqNVV9Xmpndm"
   },
   "outputs": [],
   "source": [
    "def forest_analysis2(n, init_density, prob_burning, prob_light, prob_immune, t):\n",
    "    #init_density = np.arange(0.1, 1.1, 0.1)\n",
    "    final_density = []\n",
    "    for prob_tree in init_density:\n",
    "        sum_den = 0\n",
    "        for i in range(10):\n",
    "            np.random.seed(i)\n",
    "            grids = fire2(n, prob_tree, prob_burning, prob_light, prob_immune, t)\n",
    "            sum_den += tree_density(grids[t,:,:])\n",
    "        final_density.append(sum_den/10)\n",
    "    final_density = np.array(final_density)\n",
    "    return final_density"
   ]
  },
  {
   "cell_type": "code",
   "execution_count": null,
   "metadata": {
    "colab": {
     "base_uri": "https://localhost:8080/",
     "height": 295
    },
    "id": "VNF5pbLWpndn",
    "outputId": "2ade8023-bb28-44e4-a1f9-14121c891196"
   },
   "outputs": [
    {
     "data": {
      "image/png": "[encoded data removed]",
      "text/plain": [
       "<Figure size 432x288 with 1 Axes>"
      ]
     },
     "metadata": {
      "needs_background": "light",
      "tags": []
     },
     "output_type": "display_data"
    }
   ],
   "source": [
    "n = 50\n",
    "prob_burning = np.array([0.01, 0.02, 0.05, 0.1])\n",
    "prob_light = 0\n",
    "prob_immune = 0\n",
    "t = 50\n",
    "init_density = np.arange(0.4, 1.05, 0.05)\n",
    "plt.figure()\n",
    "for burn in prob_burning:\n",
    "    fin_den = forest_analysis2(n, init_density, burn, prob_light, prob_immune, t)\n",
    "    plt.plot(init_density,fin_den,label='init_burning='+str(burn))\n",
    "plt.legend()\n",
    "plt.title('Forest cover density analysis where tree burning takes 2 time steps')\n",
    "plt.xlabel('Inital density of trees')\n",
    "plt.ylabel('Final density of trees at t=50')\n",
    "plt.grid()\n",
    "plt.show()"
   ]
  },
  {
   "cell_type": "markdown",
   "metadata": {
    "id": "i-FTFKtepndo"
   },
   "source": [
    "# Exercise 2\n",
    "A tree catches on fire from neighboring trees with a probability proportional\n",
    "to the number of neighbors on fire."
   ]
  },
  {
   "cell_type": "code",
   "execution_count": null,
   "metadata": {
    "id": "1qUZARVQpndp"
   },
   "outputs": [],
   "source": [
    "def spread3(site, N, E, S, W, prob_light, prob_immune):\n",
    "    if(site == EMPTY or site == BURNING):\n",
    "        return EMPTY\n",
    "    else:\n",
    "        if(N==BURNING or E==BURNING or S==BURNING or W==BURNING):\n",
    "            prob_immune = 1 - (N+E+S+W)/4\n",
    "            if(np.random.uniform(0,1) < prob_immune):\n",
    "                return TREE\n",
    "            else:\n",
    "                return BURNING\n",
    "        else:\n",
    "            return TREE\n",
    "\n",
    "def apply_extended3(grid, prob_light, prob_immune):\n",
    "    n = grid.shape[0] - 2\n",
    "    new_grid = np.zeros((n,n))\n",
    "    for i in range(1, n+1):\n",
    "        for j in range(1, n+1):\n",
    "            site = grid[i][j]\n",
    "            N = grid[i-1][j]\n",
    "            E = grid[i][j+1]\n",
    "            S = grid[i+1][j]\n",
    "            W = grid[i][j-1]\n",
    "            new_grid[i-1][j-1] = spread3(site, N, E, S, W, prob_light, prob_immune)\n",
    "    return new_grid\n",
    "\n",
    "def fire3(n, prob_tree, prob_burning, prob_light, prob_immune, t):\n",
    "    forest = init_forest(n, prob_tree, prob_burning)\n",
    "    grids = np.zeros((t+1, n, n))\n",
    "    grids[0,:,:] = forest\n",
    "    for i in range(1, t+1):\n",
    "        forest_ext = periodic_lat(forest)\n",
    "        forest = apply_extended3(forest_ext, prob_light, prob_immune)\n",
    "        grids[i,:,:] = forest\n",
    "    return grids"
   ]
  },
  {
   "cell_type": "code",
   "execution_count": null,
   "metadata": {
    "id": "Zcpx3QXzpndp"
   },
   "outputs": [],
   "source": [
    "np.random.seed(2)\n",
    "n = 50\n",
    "prob_tree = 0.75\n",
    "prob_burning = 0.001\n",
    "prob_light = 0\n",
    "prob_immune = 0\n",
    "t = 100\n",
    "grids = fire3(n, prob_tree, prob_burning, prob_light, prob_immune, t)"
   ]
  },
  {
   "cell_type": "code",
   "execution_count": null,
   "metadata": {
    "colab": {
     "base_uri": "https://localhost:8080/",
     "height": 1000
    },
    "id": "5sYtGw4dpndq",
    "outputId": "8411f240-7ab6-4898-87cd-3f082ff66a5a"
   },
   "outputs": [
    {
     "name": "stderr",
     "output_type": "stream",
     "text": [
      "\n",
      "\n",
      "\n",
      "  1%|          | 1/101 [00:00<?, ?it/s]\u001b[A\u001b[A\u001b[A\n",
      "\n",
      "\n",
      "  2%|▏         | 2/101 [00:00<01:06,  1.49it/s]\u001b[A\u001b[A\u001b[A\n",
      "\n",
      "\n",
      "  3%|▎         | 3/101 [00:01<00:56,  1.74it/s]\u001b[A\u001b[A\u001b[A\n",
      "\n",
      "\n",
      "  4%|▍         | 4/101 [00:01<00:50,  1.91it/s]\u001b[A\u001b[A\u001b[A\n",
      "\n",
      "\n",
      "  5%|▍         | 5/101 [00:01<00:45,  2.10it/s]\u001b[A\u001b[A\u001b[A\n",
      "\n",
      "\n",
      "  6%|▌         | 6/101 [00:02<00:43,  2.20it/s]\u001b[A\u001b[A\u001b[A\n",
      "\n",
      "\n",
      "  7%|▋         | 7/101 [00:02<00:41,  2.25it/s]\u001b[A\u001b[A\u001b[A\n",
      "\n",
      "\n",
      "  8%|▊         | 8/101 [00:03<00:40,  2.31it/s]\u001b[A\u001b[A\u001b[A\n",
      "\n",
      "\n",
      "  9%|▉         | 9/101 [00:03<00:39,  2.33it/s]\u001b[A\u001b[A\u001b[A\n",
      "\n",
      "\n",
      " 10%|▉         | 10/101 [00:03<00:39,  2.30it/s]\u001b[A\u001b[A\u001b[A\n",
      "\n",
      "\n",
      " 11%|█         | 11/101 [00:04<00:39,  2.28it/s]\u001b[A\u001b[A\u001b[A\n",
      "\n",
      "\n",
      " 12%|█▏        | 12/101 [00:04<00:39,  2.28it/s]\u001b[A\u001b[A\u001b[A\n",
      "\n",
      "\n",
      " 13%|█▎        | 13/101 [00:05<00:39,  2.24it/s]\u001b[A\u001b[A\u001b[A\n",
      "\n",
      "\n",
      " 14%|█▍        | 14/101 [00:05<00:39,  2.18it/s]\u001b[A\u001b[A\u001b[A\n",
      "\n",
      "\n",
      " 15%|█▍        | 15/101 [00:06<00:39,  2.16it/s]\u001b[A\u001b[A\u001b[A\n",
      "\n",
      "\n",
      " 16%|█▌        | 16/101 [00:06<00:40,  2.12it/s]\u001b[A\u001b[A\u001b[A\n",
      "\n",
      "\n",
      " 17%|█▋        | 17/101 [00:07<00:40,  2.07it/s]\u001b[A\u001b[A\u001b[A\n",
      "\n",
      "\n",
      " 18%|█▊        | 18/101 [00:07<00:40,  2.04it/s]\u001b[A\u001b[A\u001b[A\n",
      "\n",
      "\n",
      " 19%|█▉        | 19/101 [00:08<00:41,  1.98it/s]\u001b[A\u001b[A\u001b[A\n",
      "\n",
      "\n",
      " 20%|█▉        | 20/101 [00:08<00:41,  1.96it/s]\u001b[A\u001b[A\u001b[A\n",
      "\n",
      "\n",
      " 21%|██        | 21/101 [00:09<00:42,  1.90it/s]\u001b[A\u001b[A\u001b[A\n",
      "\n",
      "\n",
      " 22%|██▏       | 22/101 [00:09<00:42,  1.88it/s]\u001b[A\u001b[A\u001b[A\n",
      "\n",
      "\n",
      " 23%|██▎       | 23/101 [00:10<00:42,  1.84it/s]\u001b[A\u001b[A\u001b[A\n",
      "\n",
      "\n",
      " 24%|██▍       | 24/101 [00:11<00:42,  1.82it/s]\u001b[A\u001b[A\u001b[A\n",
      "\n",
      "\n",
      " 25%|██▍       | 25/101 [00:11<00:43,  1.76it/s]\u001b[A\u001b[A\u001b[A\n",
      "\n",
      "\n",
      " 26%|██▌       | 26/101 [00:12<00:43,  1.74it/s]\u001b[A\u001b[A\u001b[A\n",
      "\n",
      "\n",
      " 27%|██▋       | 27/101 [00:12<00:42,  1.73it/s]\u001b[A\u001b[A\u001b[A\n",
      "\n",
      "\n",
      " 28%|██▊       | 28/101 [00:13<00:43,  1.69it/s]\u001b[A\u001b[A\u001b[A\n",
      "\n",
      "\n",
      " 29%|██▊       | 29/101 [00:14<00:42,  1.69it/s]\u001b[A\u001b[A\u001b[A\n",
      "\n",
      "\n",
      " 30%|██▉       | 30/101 [00:14<00:43,  1.64it/s]\u001b[A\u001b[A\u001b[A\n",
      "\n",
      "\n",
      " 31%|███       | 31/101 [00:15<00:42,  1.63it/s]\u001b[A\u001b[A\u001b[A\n",
      "\n",
      "\n",
      " 32%|███▏      | 32/101 [00:15<00:42,  1.61it/s]\u001b[A\u001b[A\u001b[A\n",
      "\n",
      "\n",
      " 33%|███▎      | 33/101 [00:16<00:43,  1.57it/s]\u001b[A\u001b[A\u001b[A\n",
      "\n",
      "\n",
      " 34%|███▎      | 34/101 [00:17<00:43,  1.54it/s]\u001b[A\u001b[A\u001b[A\n",
      "\n",
      "\n",
      " 35%|███▍      | 35/101 [00:17<00:43,  1.52it/s]\u001b[A\u001b[A\u001b[A\n",
      "\n",
      "\n",
      " 36%|███▌      | 36/101 [00:18<00:43,  1.50it/s]\u001b[A\u001b[A\u001b[A\n",
      "\n",
      "\n",
      " 37%|███▋      | 37/101 [00:19<00:43,  1.48it/s]\u001b[A\u001b[A\u001b[A\n",
      "\n",
      "\n",
      " 38%|███▊      | 38/101 [00:20<00:43,  1.45it/s]\u001b[A\u001b[A\u001b[A\n",
      "\n",
      "\n",
      " 39%|███▊      | 39/101 [00:20<00:43,  1.43it/s]\u001b[A\u001b[A\u001b[A\n",
      "\n",
      "\n",
      " 40%|███▉      | 40/101 [00:21<00:42,  1.42it/s]\u001b[A\u001b[A\u001b[A\n",
      "\n",
      "\n",
      " 41%|████      | 41/101 [00:22<00:42,  1.41it/s]\u001b[A\u001b[A\u001b[A\n",
      "\n",
      "\n",
      " 42%|████▏     | 42/101 [00:22<00:42,  1.39it/s]\u001b[A\u001b[A\u001b[A\n",
      "\n",
      "\n",
      " 43%|████▎     | 43/101 [00:23<00:42,  1.37it/s]\u001b[A\u001b[A\u001b[A\n",
      "\n",
      "\n",
      " 44%|████▎     | 44/101 [00:24<00:42,  1.35it/s]\u001b[A\u001b[A\u001b[A\n",
      "\n",
      "\n",
      " 45%|████▍     | 45/101 [00:25<00:42,  1.33it/s]\u001b[A\u001b[A\u001b[A\n",
      "\n",
      "\n",
      " 46%|████▌     | 46/101 [00:26<00:41,  1.32it/s]\u001b[A\u001b[A\u001b[A\n",
      "\n",
      "\n",
      " 47%|████▋     | 47/101 [00:26<00:41,  1.29it/s]\u001b[A\u001b[A\u001b[A\n",
      "\n",
      "\n",
      " 48%|████▊     | 48/101 [00:27<00:41,  1.27it/s]\u001b[A\u001b[A\u001b[A\n",
      "\n",
      "\n",
      " 49%|████▊     | 49/101 [00:28<00:41,  1.26it/s]\u001b[A\u001b[A\u001b[A\n",
      "\n",
      "\n",
      " 50%|████▉     | 50/101 [00:29<00:40,  1.25it/s]\u001b[A\u001b[A\u001b[A\n",
      "\n",
      "\n",
      " 50%|█████     | 51/101 [00:30<00:40,  1.24it/s]\u001b[A\u001b[A\u001b[A\n",
      "\n",
      "\n",
      " 51%|█████▏    | 52/101 [00:30<00:39,  1.23it/s]\u001b[A\u001b[A\u001b[A\n",
      "\n",
      "\n",
      " 52%|█████▏    | 53/101 [00:31<00:39,  1.21it/s]\u001b[A\u001b[A\u001b[A\n",
      "\n",
      "\n",
      " 53%|█████▎    | 54/101 [00:32<00:39,  1.19it/s]\u001b[A\u001b[A\u001b[A\n",
      "\n",
      "\n",
      " 54%|█████▍    | 55/101 [00:33<00:39,  1.18it/s]\u001b[A\u001b[A\u001b[A\n",
      "\n",
      "\n",
      " 55%|█████▌    | 56/101 [00:34<00:38,  1.16it/s]\u001b[A\u001b[A\u001b[A\n",
      "\n",
      "\n",
      " 56%|█████▋    | 57/101 [00:35<00:38,  1.13it/s]\u001b[A\u001b[A\u001b[A\n",
      "\n",
      "\n",
      " 57%|█████▋    | 58/101 [00:36<00:38,  1.13it/s]\u001b[A\u001b[A\u001b[A\n",
      "\n",
      "\n",
      " 58%|█████▊    | 59/101 [00:37<00:37,  1.11it/s]\u001b[A\u001b[A\u001b[A\n",
      "\n",
      "\n",
      " 59%|█████▉    | 60/101 [00:38<00:37,  1.10it/s]\u001b[A\u001b[A\u001b[A\n",
      "\n",
      "\n",
      " 60%|██████    | 61/101 [00:39<00:36,  1.09it/s]\u001b[A\u001b[A\u001b[A\n",
      "\n",
      "\n",
      " 61%|██████▏   | 62/101 [00:40<00:36,  1.07it/s]\u001b[A\u001b[A\u001b[A\n",
      "\n",
      "\n",
      " 62%|██████▏   | 63/101 [00:40<00:35,  1.06it/s]\u001b[A\u001b[A\u001b[A\n",
      "\n",
      "\n",
      " 63%|██████▎   | 64/101 [00:41<00:35,  1.05it/s]\u001b[A\u001b[A\u001b[A\n",
      "\n",
      "\n",
      " 64%|██████▍   | 65/101 [00:42<00:34,  1.05it/s]\u001b[A\u001b[A\u001b[A\n",
      "\n",
      "\n",
      " 65%|██████▌   | 66/101 [00:43<00:33,  1.04it/s]\u001b[A\u001b[A\u001b[A\n",
      "\n",
      "\n",
      " 66%|██████▋   | 67/101 [00:44<00:33,  1.01it/s]\u001b[A\u001b[A\u001b[A\n",
      "\n",
      "\n",
      " 67%|██████▋   | 68/101 [00:45<00:32,  1.01it/s]\u001b[A\u001b[A\u001b[A\n",
      "\n",
      "\n",
      " 68%|██████▊   | 69/101 [00:46<00:32,  1.01s/it]\u001b[A\u001b[A\u001b[A\n",
      "\n",
      "\n",
      " 69%|██████▉   | 70/101 [00:48<00:31,  1.03s/it]\u001b[A\u001b[A\u001b[A\n",
      "\n",
      "\n",
      " 70%|███████   | 71/101 [00:49<00:31,  1.03s/it]\u001b[A\u001b[A\u001b[A\n",
      "\n",
      "\n",
      " 71%|███████▏  | 72/101 [00:50<00:30,  1.04s/it]\u001b[A\u001b[A\u001b[A\n",
      "\n",
      "\n",
      " 72%|███████▏  | 73/101 [00:51<00:29,  1.04s/it]\u001b[A\u001b[A\u001b[A\n",
      "\n",
      "\n",
      " 73%|███████▎  | 74/101 [00:52<00:28,  1.05s/it]\u001b[A\u001b[A\u001b[A\n",
      "\n",
      "\n",
      " 74%|███████▍  | 75/101 [00:53<00:27,  1.06s/it]\u001b[A\u001b[A\u001b[A\n",
      "\n",
      "\n",
      " 75%|███████▌  | 76/101 [00:54<00:26,  1.07s/it]\u001b[A\u001b[A\u001b[A\n",
      "\n",
      "\n",
      " 76%|███████▌  | 77/101 [00:55<00:25,  1.08s/it]\u001b[A\u001b[A\u001b[A\n",
      "\n",
      "\n",
      " 77%|███████▋  | 78/101 [00:56<00:25,  1.10s/it]\u001b[A\u001b[A\u001b[A\n",
      "\n",
      "\n",
      " 78%|███████▊  | 79/101 [00:57<00:24,  1.11s/it]\u001b[A\u001b[A\u001b[A\n",
      "\n",
      "\n",
      " 79%|███████▉  | 80/101 [00:58<00:23,  1.10s/it]\u001b[A\u001b[A\u001b[A\n",
      "\n",
      "\n",
      " 80%|████████  | 81/101 [01:00<00:22,  1.11s/it]\u001b[A\u001b[A\u001b[A\n",
      "\n",
      "\n",
      " 81%|████████  | 82/101 [01:01<00:21,  1.12s/it]\u001b[A\u001b[A\u001b[A\n",
      "\n",
      "\n",
      " 82%|████████▏ | 83/101 [01:02<00:20,  1.13s/it]\u001b[A\u001b[A\u001b[A\n",
      "\n",
      "\n",
      " 83%|████████▎ | 84/101 [01:03<00:19,  1.14s/it]\u001b[A\u001b[A\u001b[A\n",
      "\n",
      "\n",
      " 84%|████████▍ | 85/101 [01:04<00:18,  1.14s/it]\u001b[A\u001b[A\u001b[A\n",
      "\n",
      "\n",
      " 85%|████████▌ | 86/101 [01:05<00:17,  1.16s/it]\u001b[A\u001b[A\u001b[A\n",
      "\n",
      "\n",
      " 86%|████████▌ | 87/101 [01:07<00:16,  1.16s/it]\u001b[A\u001b[A\u001b[A\n",
      "\n",
      "\n",
      " 87%|████████▋ | 88/101 [01:08<00:15,  1.19s/it]\u001b[A\u001b[A\u001b[A\n",
      "\n",
      "\n",
      " 88%|████████▊ | 89/101 [01:09<00:14,  1.20s/it]\u001b[A\u001b[A\u001b[A\n",
      "\n",
      "\n",
      " 89%|████████▉ | 90/101 [01:10<00:13,  1.20s/it]\u001b[A\u001b[A\u001b[A\n",
      "\n",
      "\n",
      " 90%|█████████ | 91/101 [01:11<00:12,  1.22s/it]\u001b[A\u001b[A\u001b[A\n",
      "\n",
      "\n",
      " 91%|█████████ | 92/101 [01:13<00:11,  1.23s/it]\u001b[A\u001b[A\u001b[A\n",
      "\n",
      "\n",
      " 92%|█████████▏| 93/101 [01:14<00:09,  1.24s/it]\u001b[A\u001b[A\u001b[A\n",
      "\n",
      "\n",
      " 93%|█████████▎| 94/101 [01:15<00:08,  1.23s/it]\u001b[A\u001b[A\u001b[A\n",
      "\n",
      "\n",
      " 94%|█████████▍| 95/101 [01:17<00:07,  1.25s/it]\u001b[A\u001b[A\u001b[A\n",
      "\n",
      "\n",
      " 95%|█████████▌| 96/101 [01:18<00:06,  1.26s/it]\u001b[A\u001b[A\u001b[A\n",
      "\n",
      "\n",
      " 96%|█████████▌| 97/101 [01:19<00:05,  1.26s/it]\u001b[A\u001b[A\u001b[A\n",
      "\n",
      "\n",
      " 97%|█████████▋| 98/101 [01:20<00:03,  1.26s/it]\u001b[A\u001b[A\u001b[A\n",
      "\n",
      "\n",
      " 98%|█████████▊| 99/101 [01:22<00:02,  1.27s/it]\u001b[A\u001b[A\u001b[A\n",
      "\n",
      "\n",
      " 99%|█████████▉| 100/101 [01:23<00:01,  1.28s/it]\u001b[A\u001b[A\u001b[A\n",
      "\n",
      "\n",
      "100%|██████████| 101/101 [01:24<00:00,  1.30s/it]\u001b[A\u001b[A\u001b[A"
     ]
    },
    {
     "data": {
      "image/png": "[encoded data removed]",
      "text/plain": [
       "<Figure size 576x576 with 2 Axes>"
      ]
     },
     "metadata": {
      "needs_background": "light",
      "tags": []
     },
     "output_type": "display_data"
    }
   ],
   "source": [
    "generate_animation(grids,'4.mp4')"
   ]
  },
  {
   "cell_type": "code",
   "execution_count": null,
   "metadata": {
    "id": "Lq_8mn0Upndr"
   },
   "outputs": [],
   "source": [
    "def forest_analysis3(n, init_density, prob_burning, prob_light, prob_immune, t):\n",
    "    #init_density = np.arange(0.1, 1.1, 0.1)\n",
    "    final_density = []\n",
    "    for prob_tree in init_density:\n",
    "        sum_den = 0\n",
    "        for i in range(10):\n",
    "            np.random.seed(i)\n",
    "            grids = fire3(n, prob_tree, prob_burning, prob_light, prob_immune, t)\n",
    "            sum_den += tree_density(grids[t,:,:])\n",
    "        final_density.append(sum_den/10)\n",
    "    final_density = np.array(final_density)\n",
    "    return final_density"
   ]
  },
  {
   "cell_type": "code",
   "execution_count": null,
   "metadata": {
    "colab": {
     "base_uri": "https://localhost:8080/",
     "height": 295
    },
    "id": "jKT4xnJQpndr",
    "outputId": "7d1523ec-d6f2-40ff-920e-f6a516969c67"
   },
   "outputs": [
    {
     "data": {
      "image/png": "[encoded data removed]",
      "text/plain": [
       "<Figure size 432x288 with 1 Axes>"
      ]
     },
     "metadata": {
      "needs_background": "light",
      "tags": []
     },
     "output_type": "display_data"
    }
   ],
   "source": [
    "n = 50\n",
    "prob_burning = np.array([0.01, 0.02, 0.05, 0.1])\n",
    "prob_light = 0\n",
    "prob_immune = 0\n",
    "t = 50\n",
    "init_density = np.arange(0.4, 1.05, 0.05)\n",
    "plt.figure()\n",
    "for burn in prob_burning:\n",
    "    fin_den = forest_analysis3(n, init_density, burn, prob_light, prob_immune, t)\n",
    "    plt.plot(init_density,fin_den,label='init_burning='+str(burn))\n",
    "plt.legend()\n",
    "plt.title('Forest cover density analysis neighbour burning proportional probability')\n",
    "plt.xlabel('Inital density of trees')\n",
    "plt.ylabel('Final density of trees at t=50')\n",
    "plt.grid()\n",
    "plt.show()"
   ]
  }
 ],
 "metadata": {
  "colab": {
   "name": "ModSimpMihir_Lab10.ipynb",
   "provenance": [],
   "toc_visible": true
  },
  "kernelspec": {
   "display_name": "Python 3",
   "language": "python",
   "name": "python3"
  },
  "language_info": {
   "codemirror_mode": {
    "name": "ipython",
    "version": 3
   },
   "file_extension": ".py",
   "mimetype": "text/x-python",
   "name": "python",
   "nbconvert_exporter": "python",
   "pygments_lexer": "ipython3",
   "version": "3.9.0"
  }
 },
 "nbformat": 4,
 "nbformat_minor": 1
}
